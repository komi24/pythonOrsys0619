{
 "cells": [
  {
   "cell_type": "code",
   "execution_count": 13,
   "metadata": {},
   "outputs": [
    {
     "data": {
      "image/png": "[encoded data removed]",
      "text/plain": [
       "<Figure size 432x288 with 1 Axes>"
      ]
     },
     "metadata": {
      "needs_background": "light"
     },
     "output_type": "display_data"
    }
   ],
   "source": [
    "from time import time\n",
    "\n",
    "def fusion(arr1, arr2):\n",
    "    \"\"\"\n",
    "    Fusionne deux tableaux triés en un tableau trié\n",
    "    \"\"\"\n",
    "    i = 0\n",
    "    j = 0\n",
    "    resultat = []\n",
    "    while i < len(arr1) and j < len(arr2):\n",
    "        if arr1[i] < arr2[j]:\n",
    "            resultat.append(arr1[i])\n",
    "            i += 1\n",
    "        else:\n",
    "            resultat.append(arr2[j])\n",
    "            j += 1\n",
    "    resultat.extend(arr1[i:])\n",
    "    resultat.extend(arr2[j:])\n",
    "    return resultat\n",
    "\n",
    "def tri_fusion(arr):\n",
    "    if len(arr) <= 1:\n",
    "        return arr\n",
    "    elif len(arr) == 2:\n",
    "        if arr[0] > arr[1]:\n",
    "            return arr[::-1]\n",
    "        return arr\n",
    "    else:\n",
    "        return fusion(\n",
    "            tri_fusion(arr[:len(arr)//2]),\n",
    "            tri_fusion(arr[len(arr)//2:])\n",
    "        )\n",
    "\n",
    "\n",
    "import numpy as np\n",
    "\n",
    "timesF = []\n",
    "times = []\n",
    "\n",
    "for n in range(0,100000, 10000):\n",
    "    arr = np.random.randint(0,100,(n,))\n",
    "    start = time()\n",
    "    tri_fusion(list(arr))\n",
    "    end = time()\n",
    "    timesF.append(end-start)\n",
    "\n",
    "    start = time()\n",
    "    list(arr).sort()\n",
    "    end = time()\n",
    "    times.append(end-start)\n",
    "\n",
    "import matplotlib.pyplot as plt\n",
    "\n",
    "plt.plot(times, c='r')\n",
    "plt.plot(timesF, c='b')\n",
    "plt.show()"
   ]
  },
  {
   "cell_type": "code",
   "execution_count": null,
   "metadata": {},
   "outputs": [],
   "source": [
    "mickael.bolnet@gmail.com"
   ]
  }
 ],
 "metadata": {
  "kernelspec": {
   "display_name": "Python 3",
   "language": "python",
   "name": "python3"
  },
  "language_info": {
   "codemirror_mode": {
    "name": "ipython",
    "version": 3
   },
   "file_extension": ".py",
   "mimetype": "text/x-python",
   "name": "python",
   "nbconvert_exporter": "python",
   "pygments_lexer": "ipython3",
   "version": "3.7.3"
  }
 },
 "nbformat": 4,
 "nbformat_minor": 2
}
