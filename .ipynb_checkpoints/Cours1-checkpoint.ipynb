{
 "cells": [
  {
   "cell_type": "code",
   "execution_count": 3,
   "metadata": {},
   "outputs": [
    {
     "name": "stdout",
     "output_type": "stream",
     "text": [
      "13\n"
     ]
    }
   ],
   "source": [
    "a = 13 # J'ai mis 12 dans la variable \"a\"\n",
    "print(a) # J'affiche \"a\""
   ]
  },
  {
   "cell_type": "code",
   "execution_count": 4,
   "metadata": {},
   "outputs": [
    {
     "name": "stdout",
     "output_type": "stream",
     "text": [
      "19\n"
     ]
    }
   ],
   "source": [
    "print(a + 6)"
   ]
  },
  {
   "cell_type": "markdown",
   "metadata": {},
   "source": [
    "## Les variables\n",
    "\n",
    "Introduction aux variables"
   ]
  },
  {
   "cell_type": "code",
   "execution_count": 5,
   "metadata": {},
   "outputs": [
    {
     "name": "stdout",
     "output_type": "stream",
     "text": [
      "<class 'int'>\n"
     ]
    }
   ],
   "source": [
    "print(type(a))"
   ]
  },
  {
   "cell_type": "code",
   "execution_count": 6,
   "metadata": {},
   "outputs": [
    {
     "name": "stdout",
     "output_type": "stream",
     "text": [
      "<class 'float'>\n"
     ]
    }
   ],
   "source": [
    "a = 2.0\n",
    "print(type(a))"
   ]
  },
  {
   "cell_type": "code",
   "execution_count": 7,
   "metadata": {},
   "outputs": [],
   "source": [
    "mon_entier = 2"
   ]
  },
  {
   "cell_type": "code",
   "execution_count": 9,
   "metadata": {},
   "outputs": [
    {
     "name": "stdout",
     "output_type": "stream",
     "text": [
      "6.0\n"
     ]
    }
   ],
   "source": [
    "print(mon_entier + 4.0)"
   ]
  },
  {
   "cell_type": "code",
   "execution_count": 10,
   "metadata": {},
   "outputs": [],
   "source": [
    "mon_entier = mon_entier + 4.0\n",
    "\n",
    "MA_CONSTANTE = 5\n",
    "\n",
    "class MaClass:\n",
    "    pass\n"
   ]
  },
  {
   "cell_type": "code",
   "execution_count": 11,
   "metadata": {},
   "outputs": [
    {
     "name": "stdout",
     "output_type": "stream",
     "text": [
      "<class 'float'>\n"
     ]
    }
   ],
   "source": [
    "print(type(mon_entier))"
   ]
  },
  {
   "cell_type": "code",
   "execution_count": 14,
   "metadata": {},
   "outputs": [
    {
     "name": "stdout",
     "output_type": "stream",
     "text": [
      "Bonjour tout le monde\n",
      "ma_chaine\n",
      "<class 'str'>\n"
     ]
    }
   ],
   "source": [
    "ma_chaine = \"Bonjour tout le monde\"\n",
    "print(ma_chaine)\n",
    "print(\"ma_chaine\")\n",
    "print(type(ma_chaine))"
   ]
  },
  {
   "cell_type": "code",
   "execution_count": 16,
   "metadata": {},
   "outputs": [
    {
     "name": "stdout",
     "output_type": "stream",
     "text": [
      "<class 'bool'>\n"
     ]
    }
   ],
   "source": [
    "a_mange = True\n",
    "veut_dormir = False\n",
    "\n",
    "print(type(a))"
   ]
  },
  {
   "cell_type": "code",
   "execution_count": 19,
   "metadata": {},
   "outputs": [
    {
     "name": "stdout",
     "output_type": "stream",
     "text": [
      "False\n",
      "True\n"
     ]
    }
   ],
   "source": [
    "a_mange = True\n",
    "veut_dormir = False\n",
    "a_mange_et_veut_dormir = a_mange and veut_dormir\n",
    "\n",
    "print(a_mange_et_veut_dormir)\n",
    "print(a_mange or veut_dormir)"
   ]
  },
  {
   "cell_type": "code",
   "execution_count": 26,
   "metadata": {},
   "outputs": [
    {
     "name": "stdout",
     "output_type": "stream",
     "text": [
      "[12, 50, 37]\n",
      "12\n",
      "50\n",
      "37\n",
      "37\n",
      "[12, True, [24, False]]\n",
      "24\n"
     ]
    }
   ],
   "source": [
    "liste_age = [12,50,37]\n",
    "print(liste_age)\n",
    "print(liste_age[0])\n",
    "print(liste_age[1])\n",
    "print(liste_age[2])\n",
    "print(liste_age[-1])\n",
    "\n",
    "liste = [12, True, [24, False]]\n",
    "print(liste)\n",
    "print(liste[2][0])\n"
   ]
  },
  {
   "cell_type": "code",
   "execution_count": 32,
   "metadata": {},
   "outputs": [
    {
     "name": "stdout",
     "output_type": "stream",
     "text": [
      "36\n",
      "Dupont\n",
      "Inutilé\n"
     ]
    }
   ],
   "source": [
    "personne = {'nom': 'Dupont', \"âge\": 36, 5:'Inutilé'}\n",
    "print(personne['âge'])\n",
    "print(personne['nom'])\n",
    "print(personne[5])"
   ]
  },
  {
   "cell_type": "code",
   "execution_count": 33,
   "metadata": {},
   "outputs": [],
   "source": [
    "classe = [\n",
    "    {'nom': 'Gentil', 'prenom': 'Mathieu'},\n",
    "    {'nom': 'Dupont', 'prenom': 'Geraldine'},\n",
    "    {'nom': 'Gentil', 'prenom': 'Mathieu'},\n",
    "    {'nom': 'Gentil', 'prenom': 'Mathieu'},\n",
    "    {'nom': 'Gentil', 'prenom': 'Mathieu'},\n",
    "    {'nom': 'Gentil', 'prenom': 'Mathieu'}\n",
    "]"
   ]
  },
  {
   "cell_type": "code",
   "execution_count": 38,
   "metadata": {},
   "outputs": [
    {
     "name": "stdout",
     "output_type": "stream",
     "text": [
      "{8, 2, 4, 6}\n",
      "8\n"
     ]
    }
   ],
   "source": [
    "ma_liste = [2,4,2,6,4,8]\n",
    "mon_set = set(ma_liste)\n",
    "print(mon_set)\n",
    "print(list(mon_set)[0])"
   ]
  },
  {
   "cell_type": "code",
   "execution_count": 39,
   "metadata": {},
   "outputs": [
    {
     "name": "stdout",
     "output_type": "stream",
     "text": [
      "4\n"
     ]
    }
   ],
   "source": [
    "a = 4\n",
    "b = a\n",
    "b = b + 1\n",
    "print(a)"
   ]
  },
  {
   "cell_type": "code",
   "execution_count": 40,
   "metadata": {},
   "outputs": [
    {
     "name": "stdout",
     "output_type": "stream",
     "text": [
      "[9, 3, 5, 6]\n"
     ]
    }
   ],
   "source": [
    "liste1 = [1,3,5,6]\n",
    "liste2 = liste1\n",
    "liste2[0] = 9\n",
    "print(liste1)\n"
   ]
  },
  {
   "cell_type": "code",
   "execution_count": 41,
   "metadata": {},
   "outputs": [
    {
     "name": "stdout",
     "output_type": "stream",
     "text": [
      "[0, 0, 0, 0, 0, 0, 0, 0, 0, 0]\n"
     ]
    }
   ],
   "source": [
    "print([0]*10)"
   ]
  },
  {
   "cell_type": "markdown",
   "metadata": {},
   "source": [
    "## Création de nos Algos\n"
   ]
  },
  {
   "cell_type": "code",
   "execution_count": 46,
   "metadata": {},
   "outputs": [
    {
     "name": "stdout",
     "output_type": "stream",
     "text": [
      "Majeur\n",
      "interieur\n",
      "exterieur\n"
     ]
    }
   ],
   "source": [
    "age = 120\n",
    "if age > 18:\n",
    "    print(\"Majeur\")\n",
    "    print(\"interieur\")\n",
    "else:\n",
    "    print(\"Mineur\")\n",
    "\n",
    "print(\"exterieur\")"
   ]
  },
  {
   "cell_type": "markdown",
   "metadata": {},
   "source": [
    "## Exo : Afficher les nombres pairs de 0 à 100"
   ]
  },
  {
   "cell_type": "code",
   "execution_count": 48,
   "metadata": {},
   "outputs": [
    {
     "name": "stdout",
     "output_type": "stream",
     "text": [
      "1\n"
     ]
    }
   ],
   "source": [
    "print(17%2)"
   ]
  },
  {
   "cell_type": "code",
   "execution_count": 49,
   "metadata": {},
   "outputs": [
    {
     "name": "stdout",
     "output_type": "stream",
     "text": [
      "0\n",
      "2\n",
      "4\n",
      "6\n",
      "8\n"
     ]
    }
   ],
   "source": [
    "for i in range(10):\n",
    "    if i % 2 == 0:\n",
    "        print(i)"
   ]
  },
  {
   "cell_type": "markdown",
   "metadata": {},
   "source": [
    "## Fizz Buzz\n",
    "afficher \"fizz\" si i est multiple de 3\n",
    "\n",
    "afficehr buzz si i est multiple de 5\n",
    "\n",
    "afficher bazz si i est multiple de 3 et 5\n",
    "\n",
    "sinon afficher i\n",
    "\n",
    "Résultat : \n",
    "bazz 1 2 fizz 4 buzz .. 14 bazz 16 17 fizz ...\n"
   ]
  },
  {
   "cell_type": "code",
   "execution_count": 57,
   "metadata": {
    "scrolled": true
   },
   "outputs": [
    {
     "name": "stdout",
     "output_type": "stream",
     "text": [
      "bazz\n",
      "1\n",
      "2\n",
      "fizz\n",
      "4\n",
      "buzz\n",
      "fizz\n",
      "7\n",
      "8\n",
      "fizz\n",
      "buzz\n",
      "11\n",
      "fizz\n",
      "13\n",
      "14\n",
      "bazz\n",
      "16\n",
      "17\n",
      "fizz\n",
      "19\n",
      "buzz\n",
      "fizz\n",
      "22\n",
      "23\n",
      "fizz\n",
      "buzz\n",
      "26\n",
      "fizz\n",
      "28\n",
      "29\n",
      "bazz\n",
      "31\n",
      "32\n",
      "fizz\n",
      "34\n",
      "buzz\n",
      "fizz\n",
      "37\n",
      "38\n",
      "fizz\n",
      "buzz\n",
      "41\n",
      "fizz\n",
      "43\n",
      "44\n",
      "bazz\n",
      "46\n",
      "47\n",
      "fizz\n",
      "49\n",
      "buzz\n",
      "fizz\n",
      "52\n",
      "53\n",
      "fizz\n",
      "buzz\n",
      "56\n",
      "fizz\n",
      "58\n",
      "59\n",
      "bazz\n",
      "61\n",
      "62\n",
      "fizz\n",
      "64\n",
      "buzz\n",
      "fizz\n",
      "67\n",
      "68\n",
      "fizz\n",
      "buzz\n",
      "71\n",
      "fizz\n",
      "73\n",
      "74\n",
      "bazz\n",
      "76\n",
      "77\n",
      "fizz\n",
      "79\n",
      "buzz\n",
      "fizz\n",
      "82\n",
      "83\n",
      "fizz\n",
      "buzz\n",
      "86\n",
      "fizz\n",
      "88\n",
      "89\n",
      "bazz\n",
      "91\n",
      "92\n",
      "fizz\n",
      "94\n",
      "buzz\n",
      "fizz\n",
      "97\n",
      "98\n",
      "fizz\n"
     ]
    }
   ],
   "source": [
    "for i in range(100):\n",
    "    if i % 3 == 0:\n",
    "        if i % 5 == 0:\n",
    "            print(\"bazz\")\n",
    "        else:\n",
    "            print(\"fizz\")\n",
    "    elif i % 5 == 0 :\n",
    "        print(\"buzz\")\n",
    "    else:\n",
    "         print(i)"
   ]
  },
  {
   "cell_type": "code",
   "execution_count": 62,
   "metadata": {},
   "outputs": [
    {
     "name": "stdout",
     "output_type": "stream",
     "text": [
      "[0, 1, 2, 3, 4, 5, 6, 7, 8, 9, 10, 11, 12, 13, 14, 15, 16, 17, 18, 19, 20, 21, 22, 23, 24, 25, 26, 27, 28, 29, 30, 31, 32, 33, 34, 35, 36, 37, 38, 39, 40, 41, 42, 43, 44, 45, 46, 47, 48, 49, 50, 51, 52, 53, 54, 55, 56, 57, 58, 59, 60, 61, 62, 63, 64, 65, 66, 67, 68, 69, 70, 71, 72, 73, 74, 75, 76, 77, 78, 79, 80, 81, 82, 83, 84, 85, 86, 87, 88, 89, 90, 91, 92, 93, 94, 95, 96, 97, 98, 99]\n"
     ]
    }
   ],
   "source": [
    "# for i in range(0,100,5):\n",
    "#     print(i)\n",
    "print(list(range(100)))"
   ]
  },
  {
   "cell_type": "code",
   "execution_count": 69,
   "metadata": {},
   "outputs": [
    {
     "name": "stdout",
     "output_type": "stream",
     "text": [
      "[1, 4, 3]\n",
      "[1, 4, 3, 6, 5, 7]\n",
      "[1, 4, 3, 6, 5]\n",
      "[3, 6, 5, 7, 2]\n",
      "[4, 6, 7]\n",
      "[7, 5, 6, 3, 4]\n"
     ]
    }
   ],
   "source": [
    "ma_liste = [1,4,3,6,5,7,2]\n",
    "print(ma_liste[0:3])\n",
    "print(ma_liste[0:-1])\n",
    "print(ma_liste[:-2])\n",
    "print(ma_liste[2:])\n",
    "print(ma_liste[1:-1:2])\n",
    "print(ma_liste[-2:0:-1])\n",
    "print(ma_liste[::-1])"
   ]
  },
  {
   "cell_type": "code",
   "execution_count": 76,
   "metadata": {},
   "outputs": [
    {
     "name": "stdout",
     "output_type": "stream",
     "text": [
      "QUel est votre nom ?B\n",
      "Quel est votre age ?36\n",
      "Bonjour, B\n",
      "Vous aurez 37ans\n",
      "Vous avez 36 et vous aurez 37 ans\n",
      "Vous avez 36 ans et vous aurez 37 ans\n"
     ]
    }
   ],
   "source": [
    "name = input(\"QUel est votre nom ?\")\n",
    "age = int(input(\"Quel est votre age ?\"))\n",
    "print(\"Bonjour, \" + name)\n",
    "print(\"Vous aurez \" + str(age+1) + \"ans\")\n",
    "print(\"Vous avez %d et vous aurez %d ans\"%(age, age+1))\n",
    "print(f\"Vous avez {age} ans et vous aurez {age+1} ans\")"
   ]
  },
  {
   "cell_type": "markdown",
   "metadata": {},
   "source": [
    "## Recherche par dichotomie\n",
    "\n",
    "L'ordinateur (notre programme) va générer un nombre au hasard.\n",
    "\n",
    "A chaque tour, L'utilisateur va proposer une valeur.\n",
    "\n",
    "Et l'ordinateur répond :\n",
    "* Plus grand\n",
    "* Plus petit\n",
    "* Egal et sort de la boucle\n"
   ]
  },
  {
   "cell_type": "code",
   "execution_count": 88,
   "metadata": {},
   "outputs": [
    {
     "name": "stdout",
     "output_type": "stream",
     "text": [
      "Devine un nombre entre 0 et 100: 50\n",
      "Ta valeur est trop petite\n",
      "Devine un nombre entre 0 et 100: 75\n",
      "Ta valeur est trop grande\n",
      "Devine un nombre entre 0 et 100: 60\n",
      "Ta valeur est trop grande\n",
      "Devine un nombre entre 0 et 100: 57\n",
      "Ta valeur est trop grande\n",
      "Devine un nombre entre 0 et 100: 53\n",
      "Bravo\n"
     ]
    }
   ],
   "source": [
    "import random\n",
    "\n",
    "valeur_a_deviner = random.randint(0,101)\n",
    "\n",
    "\"\"\"\n",
    "    Premiere étape : Laisser l'utilisateur entrer une valeur \n",
    "    avec input()\n",
    "    Lui répondre si ça valeur est plus petite ou \n",
    "    plus grande que valeur_a_deviner\n",
    "\"\"\"\n",
    "\n",
    "trouve = False\n",
    "\n",
    "while not trouve: # while trouve == False\n",
    "    valeur = int(input(\"Devine un nombre entre 0 et 100: \"))\n",
    "    if valeur < valeur_a_deviner:\n",
    "        print(\"Ta valeur est trop petite\")\n",
    "    elif valeur > valeur_a_deviner:\n",
    "        print(\"Ta valeur est trop grande\")\n",
    "    else:\n",
    "        print(\"Bravo\")\n",
    "        trouve = True\n"
   ]
  },
  {
   "cell_type": "code",
   "execution_count": 89,
   "metadata": {},
   "outputs": [
    {
     "name": "stdout",
     "output_type": "stream",
     "text": [
      "Je pense que c'est 50\n",
      "Est-elle trop grande (G), trop petite (P) ou égale (E) ? P\n",
      "Je pense que c'est 75\n",
      "Est-elle trop grande (G), trop petite (P) ou égale (E) ? G\n",
      "Je pense que c'est 62\n",
      "Est-elle trop grande (G), trop petite (P) ou égale (E) ? P\n",
      "Je pense que c'est 68\n",
      "Est-elle trop grande (G), trop petite (P) ou égale (E) ? E\n",
      "Gagné !\n"
     ]
    }
   ],
   "source": [
    "\"\"\"\n",
    "L'utilisateur pense à une valeur\n",
    "L'ordinateur essaie de la trouver\n",
    "\"\"\"\n",
    "\n",
    "minimum = 0\n",
    "maximum = 101\n",
    "\n",
    "trouve = False\n",
    "while not trouve:\n",
    "    valeur_ordinateur = (minimum + maximum) // 2\n",
    "    print(f\"Je pense que c'est {valeur_ordinateur}\")\n",
    "    reponse = input(\"Est-elle trop grande (G), trop petite (P) ou égale (E) ? \")\n",
    "    if reponse == \"G\":\n",
    "        maximum = valeur_ordinateur\n",
    "    elif reponse == \"P\":\n",
    "        minimum = valeur_ordinateur\n",
    "    else:\n",
    "        print(\"Gagné !\")\n",
    "        trouve = True"
   ]
  },
  {
   "cell_type": "code",
   "execution_count": null,
   "metadata": {},
   "outputs": [],
   "source": [
    "def tri_bulle(array):\n",
    "    \"\"\"\n",
    "    \n",
    "    \"\"\"\n",
    "    print(\"hello\")\n",
    "    print(array[0])\n",
    "    return True\n",
    "\n",
    "resultat = tri_bulle(list([2,1,6,4]))\n",
    "\n"
   ]
  },
  {
   "cell_type": "code",
   "execution_count": 90,
   "metadata": {},
   "outputs": [],
   "source": [
    "def dire_bonjour():\n",
    "    print(\"Bonjour\")\n",
    "    \n"
   ]
  },
  {
   "cell_type": "code",
   "execution_count": 91,
   "metadata": {},
   "outputs": [
    {
     "name": "stdout",
     "output_type": "stream",
     "text": [
      "Bonjour\n"
     ]
    }
   ],
   "source": [
    "dire_bonjour()"
   ]
  },
  {
   "cell_type": "code",
   "execution_count": null,
   "metadata": {},
   "outputs": [],
   "source": [
    "def dire_bonjour(nom, prenom):\n",
    "    return f\"Bonjour {nom} {prenom}\""
   ]
  },
  {
   "cell_type": "code",
   "execution_count": 103,
   "metadata": {},
   "outputs": [],
   "source": [
    "def dire_bonjour(nom, prenom=\"Romain\", age=36):\n",
    "    return f\"Bonjour {nom} {prenom}. Tu as {age} ans\""
   ]
  },
  {
   "cell_type": "code",
   "execution_count": 104,
   "metadata": {},
   "outputs": [
    {
     "name": "stdout",
     "output_type": "stream",
     "text": [
      "Bonjour Gallet Romain. Tu as 42 ans\n",
      "Bonjour Lucet Elise. Tu as 36 ans\n"
     ]
    }
   ],
   "source": [
    "print(dire_bonjour(\"Gallet\", age=42))\n",
    "print(dire_bonjour(\"Lucet\", \"Elise\"))"
   ]
  },
  {
   "cell_type": "code",
   "execution_count": 128,
   "metadata": {},
   "outputs": [
    {
     "name": "stdout",
     "output_type": "stream",
     "text": [
      "[{'lastname': 'Henry', 'firstname': 'Amandine', 'age': 29, 'attaque': 80, 'defense': 40}, {'lastname': 'Renard', 'firstname': 'Wendy', 'age': 29, 'attaque': 60, 'defense': 70}, {'lastname': 'Bussaglia', 'firstname': 'Amandine', 'age': 31, 'attaque': 60, 'defense': 60}, {'lastname': 'Le Sommer', 'firstname': 'Eugenie', 'age': 32, 'attaque': 70, 'defense': 60}]\n"
     ]
    }
   ],
   "source": [
    "liste_personne = []\n",
    "\n",
    "def add_personne(nom, prenom, age, attaque, defense, liste):\n",
    "    \"\"\"\n",
    "    Ajoute un dictionaire {'nom': nom, 'prenom': prenom, 'age': age}\n",
    "    à l'intérieur de la liste\n",
    "    NB : vous pouvez utiliser liste.append(mon_dictionnaire)\n",
    "    \"\"\"\n",
    "    dico_tmp = {\n",
    "        'lastname': nom, \n",
    "        'firstname': prenom, \n",
    "        'age': age,\n",
    "        'attaque': attaque,\n",
    "        'defense': defense\n",
    "    }\n",
    "    liste.append(dico_tmp)\n",
    "    \n",
    "    \n",
    "add_personne('Henry', 'Amandine', 29, 80,40, liste_personne)\n",
    "add_personne('Renard', 'Wendy', 29, 60, 70, liste_personne)\n",
    "add_personne('Bussaglia', 'Amandine', 31, 60, 60, liste_personne)\n",
    "add_personne('Le Sommer', 'Eugenie', 32, 70, 60, liste_personne)\n",
    "print(liste_personne)"
   ]
  },
  {
   "cell_type": "code",
   "execution_count": 113,
   "metadata": {},
   "outputs": [
    {
     "name": "stdout",
     "output_type": "stream",
     "text": [
      "[{'lastname': 'Henry', 'firstname': 'Amandine', 'age': 29}]\n",
      "[{'lastname': 'Henry', 'firstname': 'Amandine', 'age': 29}, {'lastname': 'Renard', 'firstname': 'Wendy', 'age': 29}, {'lastname': 'Bussaglia', 'firstname': 'Amandine', 'age': 31}, {'lastname': 'Le Sommer', 'firstname': 'Eugenie', 'age': 32}]\n"
     ]
    }
   ],
   "source": [
    "print(liste_personne)\n",
    "add_personne('Renard', 'Wendy', 29, liste_personne)\n",
    "add_personne('Bussaglia', 'Amandine', 31, liste_personne)\n",
    "add_personne('Le Sommer', 'Eugenie', 32, liste_personne)\n",
    "print(liste_personne)\n"
   ]
  },
  {
   "cell_type": "code",
   "execution_count": 109,
   "metadata": {},
   "outputs": [
    {
     "name": "stdout",
     "output_type": "stream",
     "text": [
      "5\n",
      "4\n"
     ]
    }
   ],
   "source": [
    "ma_liste = [6, 5, 3]\n",
    "mon_dictionnaire = {0: 12, 1: 4, 5:18}\n",
    "print(ma_liste[1])\n",
    "print(mon_dictionnaire[18])"
   ]
  },
  {
   "cell_type": "code",
   "execution_count": 119,
   "metadata": {},
   "outputs": [
    {
     "name": "stdout",
     "output_type": "stream",
     "text": [
      "Henry\n",
      "Renard\n",
      "Bussaglia\n",
      "Le Sommer\n",
      "Henry\n",
      "Renard\n",
      "Bussaglia\n",
      "Le Sommer\n"
     ]
    }
   ],
   "source": [
    "for i in range(len(liste_personne)):\n",
    "    print(liste_personne[i]['lastname'])\n",
    "    \n",
    "for personne in liste_personne:\n",
    "    print(personne['lastname'])\n",
    "    \n",
    "\n",
    "# l =  [p['lastname'] for p in liste_personne if p['age'] < 30]\n",
    "# print(l)"
   ]
  },
  {
   "cell_type": "code",
   "execution_count": 122,
   "metadata": {},
   "outputs": [
    {
     "name": "stdout",
     "output_type": "stream",
     "text": [
      "30.25\n"
     ]
    }
   ],
   "source": [
    "age_total = 0\n",
    "for personne in liste_personne:\n",
    "    age_total += personne['age']\n",
    "\n",
    "print(age_total/len(liste_personne))"
   ]
  },
  {
   "cell_type": "code",
   "execution_count": 124,
   "metadata": {},
   "outputs": [
    {
     "name": "stdout",
     "output_type": "stream",
     "text": [
      "30.25\n"
     ]
    }
   ],
   "source": [
    "moyenne =  sum([p['age'] for p in liste_personne])/len(liste_personne)\n",
    "print(moyenne)"
   ]
  },
  {
   "cell_type": "code",
   "execution_count": 125,
   "metadata": {},
   "outputs": [
    {
     "name": "stdout",
     "output_type": "stream",
     "text": [
      "30.25\n"
     ]
    }
   ],
   "source": [
    "def moyenne(personnes):\n",
    "    return sum([p['age'] for p in personnes]) / len(personnes)\n",
    "\n",
    "print(moyenne(liste_personne))"
   ]
  },
  {
   "cell_type": "code",
   "execution_count": 130,
   "metadata": {},
   "outputs": [
    {
     "name": "stdout",
     "output_type": "stream",
     "text": [
      "67.5\n"
     ]
    }
   ],
   "source": [
    "def note_moyenne(personne):\n",
    "    return (personne['attaque'] + personne['defense'])/2\n",
    "def note_attaque(personne):\n",
    "    return personne['attaque']\n",
    "\n",
    "def note(notation, liste):\n",
    "    note_total = 0\n",
    "    for personne in liste:\n",
    "        note_total += notation(personne)\n",
    "    return note_total/len(liste)\n",
    "\n",
    "print(note(note_attaque, liste_personne))"
   ]
  },
  {
   "cell_type": "code",
   "execution_count": 127,
   "metadata": {},
   "outputs": [
    {
     "data": {
      "text/plain": [
       "[{'lastname': 'Henry', 'firstname': 'Amandine', 'age': 29},\n",
       " {'lastname': 'Renard', 'firstname': 'Wendy', 'age': 29},\n",
       " {'lastname': 'Bussaglia', 'firstname': 'Amandine', 'age': 31},\n",
       " {'lastname': 'Le Sommer', 'firstname': 'Eugenie', 'age': 32}]"
      ]
     },
     "execution_count": 127,
     "metadata": {},
     "output_type": "execute_result"
    }
   ],
   "source": [
    "liste_personne"
   ]
  },
  {
   "cell_type": "code",
   "execution_count": 134,
   "metadata": {},
   "outputs": [
    {
     "name": "stdout",
     "output_type": "stream",
     "text": [
      "[0, 1, 2, 3, 7]\n"
     ]
    }
   ],
   "source": [
    "def tri_bulle(liste):\n",
    "    \"\"\"\n",
    "    Renvoyer une liste triée à partir de 'liste'\n",
    "    L'algo tri bulle tri les éléments d'une liste en\n",
    "    comparant tour à tour un élément et le suivant\n",
    "    \"\"\"\n",
    "    for j in range(len(liste)-1):\n",
    "        for i in range(len(liste)-1):\n",
    "            if liste[i] > liste[i+1]:\n",
    "                tmp = liste[i]\n",
    "                liste[i] = liste[i+1]\n",
    "                liste[i+1] = tmp\n",
    "                #liste[i,i+2] = liste[i, i+2][::-1]\n",
    "                #liste[i], liste[i+1] = liste[i+1], liste[i] \n",
    "    return liste\n",
    "    \n",
    "print(tri_bulle([3,1,7,2,0]))    "
   ]
  },
  {
   "cell_type": "code",
   "execution_count": 153,
   "metadata": {},
   "outputs": [],
   "source": [
    "from selenium import webdriver\n",
    "from selenium.webdriver.common.keys import Keys\n",
    "from time import sleep\n",
    "\n",
    "\n",
    "browser = webdriver.Chrome()\n",
    "\n",
    "browser.get('https://seloger.com')\n",
    "\n",
    "input_ville = browser.find_element_by_id(\"agatha_autocomplete_autocompleteUI__input\")\n",
    "input_ville.send_keys(\"Paris\")\n",
    "sleep(1)\n",
    "input_ville.send_keys(Keys.RETURN)\n",
    "\n",
    "sleep(2)\n",
    "input_budget = browser.find_element_by_css_selector('input[type=\"tel\"]')\n",
    "input_budget.clcik()\n",
    "sleep(1)\n",
    "input_budget.send_keys(\"500000\")\n",
    "\n"
   ]
  },
  {
   "cell_type": "code",
   "execution_count": null,
   "metadata": {},
   "outputs": [],
   "source": []
  },
  {
   "cell_type": "code",
   "execution_count": null,
   "metadata": {},
   "outputs": [],
   "source": []
  }
 ],
 "metadata": {
  "kernelspec": {
   "display_name": "Python 3",
   "language": "python",
   "name": "python3"
  },
  "language_info": {
   "codemirror_mode": {
    "name": "ipython",
    "version": 3
   },
   "file_extension": ".py",
   "mimetype": "text/x-python",
   "name": "python",
   "nbconvert_exporter": "python",
   "pygments_lexer": "ipython3",
   "version": "3.7.3"
  }
 },
 "nbformat": 4,
 "nbformat_minor": 2
}
